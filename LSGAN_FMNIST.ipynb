{
  "nbformat": 4,
  "nbformat_minor": 0,
  "metadata": {
    "colab": {
      "name": "LSGAN_FMNIST.ipynb",
      "provenance": [],
      "collapsed_sections": [],
      "include_colab_link": true
    },
    "kernelspec": {
      "name": "python3",
      "display_name": "Python 3"
    },
    "accelerator": "GPU",
    "widgets": {
      "application/vnd.jupyter.widget-state+json": {
        "9aa8afd9c50d462290426bbfb2890c16": {
          "model_module": "@jupyter-widgets/controls",
          "model_name": "HBoxModel",
          "state": {
            "_view_name": "HBoxView",
            "_dom_classes": [],
            "_model_name": "HBoxModel",
            "_view_module": "@jupyter-widgets/controls",
            "_model_module_version": "1.5.0",
            "_view_count": null,
            "_view_module_version": "1.5.0",
            "box_style": "",
            "layout": "IPY_MODEL_1f3ee0753ba941b19495f88c9525bc48",
            "_model_module": "@jupyter-widgets/controls",
            "children": [
              "IPY_MODEL_5c276415bc784b0aa74f34f86e0f48d8",
              "IPY_MODEL_20c5bc0502114e0fbee32bd3ef0c1cd8"
            ]
          }
        },
        "1f3ee0753ba941b19495f88c9525bc48": {
          "model_module": "@jupyter-widgets/base",
          "model_name": "LayoutModel",
          "state": {
            "_view_name": "LayoutView",
            "grid_template_rows": null,
            "right": null,
            "justify_content": null,
            "_view_module": "@jupyter-widgets/base",
            "overflow": null,
            "_model_module_version": "1.2.0",
            "_view_count": null,
            "flex_flow": null,
            "width": null,
            "min_width": null,
            "border": null,
            "align_items": null,
            "bottom": null,
            "_model_module": "@jupyter-widgets/base",
            "top": null,
            "grid_column": null,
            "overflow_y": null,
            "overflow_x": null,
            "grid_auto_flow": null,
            "grid_area": null,
            "grid_template_columns": null,
            "flex": null,
            "_model_name": "LayoutModel",
            "justify_items": null,
            "grid_row": null,
            "max_height": null,
            "align_content": null,
            "visibility": null,
            "align_self": null,
            "height": null,
            "min_height": null,
            "padding": null,
            "grid_auto_rows": null,
            "grid_gap": null,
            "max_width": null,
            "order": null,
            "_view_module_version": "1.2.0",
            "grid_template_areas": null,
            "object_position": null,
            "object_fit": null,
            "grid_auto_columns": null,
            "margin": null,
            "display": null,
            "left": null
          }
        },
        "5c276415bc784b0aa74f34f86e0f48d8": {
          "model_module": "@jupyter-widgets/controls",
          "model_name": "FloatProgressModel",
          "state": {
            "_view_name": "ProgressView",
            "style": "IPY_MODEL_af7a969c8e384aa6bd42b45b38527c8d",
            "_dom_classes": [],
            "description": "",
            "_model_name": "FloatProgressModel",
            "bar_style": "success",
            "max": 1,
            "_view_module": "@jupyter-widgets/controls",
            "_model_module_version": "1.5.0",
            "value": 1,
            "_view_count": null,
            "_view_module_version": "1.5.0",
            "orientation": "horizontal",
            "min": 0,
            "description_tooltip": null,
            "_model_module": "@jupyter-widgets/controls",
            "layout": "IPY_MODEL_a2d1370c6ea8437596cdb1f6994a5eff"
          }
        },
        "20c5bc0502114e0fbee32bd3ef0c1cd8": {
          "model_module": "@jupyter-widgets/controls",
          "model_name": "HTMLModel",
          "state": {
            "_view_name": "HTMLView",
            "style": "IPY_MODEL_aa5ebd26bcaa44a19b769760eb3e303b",
            "_dom_classes": [],
            "description": "",
            "_model_name": "HTMLModel",
            "placeholder": "​",
            "_view_module": "@jupyter-widgets/controls",
            "_model_module_version": "1.5.0",
            "value": " 26427392/? [00:19&lt;00:00, 103924330.02it/s]",
            "_view_count": null,
            "_view_module_version": "1.5.0",
            "description_tooltip": null,
            "_model_module": "@jupyter-widgets/controls",
            "layout": "IPY_MODEL_08c7525c2dc043a985bb499d1245deed"
          }
        },
        "af7a969c8e384aa6bd42b45b38527c8d": {
          "model_module": "@jupyter-widgets/controls",
          "model_name": "ProgressStyleModel",
          "state": {
            "_view_name": "StyleView",
            "_model_name": "ProgressStyleModel",
            "description_width": "initial",
            "_view_module": "@jupyter-widgets/base",
            "_model_module_version": "1.5.0",
            "_view_count": null,
            "_view_module_version": "1.2.0",
            "bar_color": null,
            "_model_module": "@jupyter-widgets/controls"
          }
        },
        "a2d1370c6ea8437596cdb1f6994a5eff": {
          "model_module": "@jupyter-widgets/base",
          "model_name": "LayoutModel",
          "state": {
            "_view_name": "LayoutView",
            "grid_template_rows": null,
            "right": null,
            "justify_content": null,
            "_view_module": "@jupyter-widgets/base",
            "overflow": null,
            "_model_module_version": "1.2.0",
            "_view_count": null,
            "flex_flow": null,
            "width": null,
            "min_width": null,
            "border": null,
            "align_items": null,
            "bottom": null,
            "_model_module": "@jupyter-widgets/base",
            "top": null,
            "grid_column": null,
            "overflow_y": null,
            "overflow_x": null,
            "grid_auto_flow": null,
            "grid_area": null,
            "grid_template_columns": null,
            "flex": null,
            "_model_name": "LayoutModel",
            "justify_items": null,
            "grid_row": null,
            "max_height": null,
            "align_content": null,
            "visibility": null,
            "align_self": null,
            "height": null,
            "min_height": null,
            "padding": null,
            "grid_auto_rows": null,
            "grid_gap": null,
            "max_width": null,
            "order": null,
            "_view_module_version": "1.2.0",
            "grid_template_areas": null,
            "object_position": null,
            "object_fit": null,
            "grid_auto_columns": null,
            "margin": null,
            "display": null,
            "left": null
          }
        },
        "aa5ebd26bcaa44a19b769760eb3e303b": {
          "model_module": "@jupyter-widgets/controls",
          "model_name": "DescriptionStyleModel",
          "state": {
            "_view_name": "StyleView",
            "_model_name": "DescriptionStyleModel",
            "description_width": "",
            "_view_module": "@jupyter-widgets/base",
            "_model_module_version": "1.5.0",
            "_view_count": null,
            "_view_module_version": "1.2.0",
            "_model_module": "@jupyter-widgets/controls"
          }
        },
        "08c7525c2dc043a985bb499d1245deed": {
          "model_module": "@jupyter-widgets/base",
          "model_name": "LayoutModel",
          "state": {
            "_view_name": "LayoutView",
            "grid_template_rows": null,
            "right": null,
            "justify_content": null,
            "_view_module": "@jupyter-widgets/base",
            "overflow": null,
            "_model_module_version": "1.2.0",
            "_view_count": null,
            "flex_flow": null,
            "width": null,
            "min_width": null,
            "border": null,
            "align_items": null,
            "bottom": null,
            "_model_module": "@jupyter-widgets/base",
            "top": null,
            "grid_column": null,
            "overflow_y": null,
            "overflow_x": null,
            "grid_auto_flow": null,
            "grid_area": null,
            "grid_template_columns": null,
            "flex": null,
            "_model_name": "LayoutModel",
            "justify_items": null,
            "grid_row": null,
            "max_height": null,
            "align_content": null,
            "visibility": null,
            "align_self": null,
            "height": null,
            "min_height": null,
            "padding": null,
            "grid_auto_rows": null,
            "grid_gap": null,
            "max_width": null,
            "order": null,
            "_view_module_version": "1.2.0",
            "grid_template_areas": null,
            "object_position": null,
            "object_fit": null,
            "grid_auto_columns": null,
            "margin": null,
            "display": null,
            "left": null
          }
        },
        "500f197fa5204f3c88ed02f7300d02c8": {
          "model_module": "@jupyter-widgets/controls",
          "model_name": "HBoxModel",
          "state": {
            "_view_name": "HBoxView",
            "_dom_classes": [],
            "_model_name": "HBoxModel",
            "_view_module": "@jupyter-widgets/controls",
            "_model_module_version": "1.5.0",
            "_view_count": null,
            "_view_module_version": "1.5.0",
            "box_style": "",
            "layout": "IPY_MODEL_55002d96f35142e3a56438b432ad78c0",
            "_model_module": "@jupyter-widgets/controls",
            "children": [
              "IPY_MODEL_56ac2f3d5b4146099b6f80c9ea1495ba",
              "IPY_MODEL_96bdfd6ff3b140dbbb4d9425d1f89840"
            ]
          }
        },
        "55002d96f35142e3a56438b432ad78c0": {
          "model_module": "@jupyter-widgets/base",
          "model_name": "LayoutModel",
          "state": {
            "_view_name": "LayoutView",
            "grid_template_rows": null,
            "right": null,
            "justify_content": null,
            "_view_module": "@jupyter-widgets/base",
            "overflow": null,
            "_model_module_version": "1.2.0",
            "_view_count": null,
            "flex_flow": null,
            "width": null,
            "min_width": null,
            "border": null,
            "align_items": null,
            "bottom": null,
            "_model_module": "@jupyter-widgets/base",
            "top": null,
            "grid_column": null,
            "overflow_y": null,
            "overflow_x": null,
            "grid_auto_flow": null,
            "grid_area": null,
            "grid_template_columns": null,
            "flex": null,
            "_model_name": "LayoutModel",
            "justify_items": null,
            "grid_row": null,
            "max_height": null,
            "align_content": null,
            "visibility": null,
            "align_self": null,
            "height": null,
            "min_height": null,
            "padding": null,
            "grid_auto_rows": null,
            "grid_gap": null,
            "max_width": null,
            "order": null,
            "_view_module_version": "1.2.0",
            "grid_template_areas": null,
            "object_position": null,
            "object_fit": null,
            "grid_auto_columns": null,
            "margin": null,
            "display": null,
            "left": null
          }
        },
        "56ac2f3d5b4146099b6f80c9ea1495ba": {
          "model_module": "@jupyter-widgets/controls",
          "model_name": "FloatProgressModel",
          "state": {
            "_view_name": "ProgressView",
            "style": "IPY_MODEL_6156da5a572f4cc48c6dc99a12215ce9",
            "_dom_classes": [],
            "description": "",
            "_model_name": "FloatProgressModel",
            "bar_style": "success",
            "max": 1,
            "_view_module": "@jupyter-widgets/controls",
            "_model_module_version": "1.5.0",
            "value": 1,
            "_view_count": null,
            "_view_module_version": "1.5.0",
            "orientation": "horizontal",
            "min": 0,
            "description_tooltip": null,
            "_model_module": "@jupyter-widgets/controls",
            "layout": "IPY_MODEL_c2db52bf93594fe582b961629a7aaf2a"
          }
        },
        "96bdfd6ff3b140dbbb4d9425d1f89840": {
          "model_module": "@jupyter-widgets/controls",
          "model_name": "HTMLModel",
          "state": {
            "_view_name": "HTMLView",
            "style": "IPY_MODEL_2b4269fdbb804bf8a9bb0f0b054bed56",
            "_dom_classes": [],
            "description": "",
            "_model_name": "HTMLModel",
            "placeholder": "​",
            "_view_module": "@jupyter-widgets/controls",
            "_model_module_version": "1.5.0",
            "value": " 32768/? [00:00&lt;00:00, 82553.55it/s]",
            "_view_count": null,
            "_view_module_version": "1.5.0",
            "description_tooltip": null,
            "_model_module": "@jupyter-widgets/controls",
            "layout": "IPY_MODEL_69227affea204cdfac8c77d7f7d8f99e"
          }
        },
        "6156da5a572f4cc48c6dc99a12215ce9": {
          "model_module": "@jupyter-widgets/controls",
          "model_name": "ProgressStyleModel",
          "state": {
            "_view_name": "StyleView",
            "_model_name": "ProgressStyleModel",
            "description_width": "initial",
            "_view_module": "@jupyter-widgets/base",
            "_model_module_version": "1.5.0",
            "_view_count": null,
            "_view_module_version": "1.2.0",
            "bar_color": null,
            "_model_module": "@jupyter-widgets/controls"
          }
        },
        "c2db52bf93594fe582b961629a7aaf2a": {
          "model_module": "@jupyter-widgets/base",
          "model_name": "LayoutModel",
          "state": {
            "_view_name": "LayoutView",
            "grid_template_rows": null,
            "right": null,
            "justify_content": null,
            "_view_module": "@jupyter-widgets/base",
            "overflow": null,
            "_model_module_version": "1.2.0",
            "_view_count": null,
            "flex_flow": null,
            "width": null,
            "min_width": null,
            "border": null,
            "align_items": null,
            "bottom": null,
            "_model_module": "@jupyter-widgets/base",
            "top": null,
            "grid_column": null,
            "overflow_y": null,
            "overflow_x": null,
            "grid_auto_flow": null,
            "grid_area": null,
            "grid_template_columns": null,
            "flex": null,
            "_model_name": "LayoutModel",
            "justify_items": null,
            "grid_row": null,
            "max_height": null,
            "align_content": null,
            "visibility": null,
            "align_self": null,
            "height": null,
            "min_height": null,
            "padding": null,
            "grid_auto_rows": null,
            "grid_gap": null,
            "max_width": null,
            "order": null,
            "_view_module_version": "1.2.0",
            "grid_template_areas": null,
            "object_position": null,
            "object_fit": null,
            "grid_auto_columns": null,
            "margin": null,
            "display": null,
            "left": null
          }
        },
        "2b4269fdbb804bf8a9bb0f0b054bed56": {
          "model_module": "@jupyter-widgets/controls",
          "model_name": "DescriptionStyleModel",
          "state": {
            "_view_name": "StyleView",
            "_model_name": "DescriptionStyleModel",
            "description_width": "",
            "_view_module": "@jupyter-widgets/base",
            "_model_module_version": "1.5.0",
            "_view_count": null,
            "_view_module_version": "1.2.0",
            "_model_module": "@jupyter-widgets/controls"
          }
        },
        "69227affea204cdfac8c77d7f7d8f99e": {
          "model_module": "@jupyter-widgets/base",
          "model_name": "LayoutModel",
          "state": {
            "_view_name": "LayoutView",
            "grid_template_rows": null,
            "right": null,
            "justify_content": null,
            "_view_module": "@jupyter-widgets/base",
            "overflow": null,
            "_model_module_version": "1.2.0",
            "_view_count": null,
            "flex_flow": null,
            "width": null,
            "min_width": null,
            "border": null,
            "align_items": null,
            "bottom": null,
            "_model_module": "@jupyter-widgets/base",
            "top": null,
            "grid_column": null,
            "overflow_y": null,
            "overflow_x": null,
            "grid_auto_flow": null,
            "grid_area": null,
            "grid_template_columns": null,
            "flex": null,
            "_model_name": "LayoutModel",
            "justify_items": null,
            "grid_row": null,
            "max_height": null,
            "align_content": null,
            "visibility": null,
            "align_self": null,
            "height": null,
            "min_height": null,
            "padding": null,
            "grid_auto_rows": null,
            "grid_gap": null,
            "max_width": null,
            "order": null,
            "_view_module_version": "1.2.0",
            "grid_template_areas": null,
            "object_position": null,
            "object_fit": null,
            "grid_auto_columns": null,
            "margin": null,
            "display": null,
            "left": null
          }
        },
        "9f2790311c1844e7bc915856dc6a0d9c": {
          "model_module": "@jupyter-widgets/controls",
          "model_name": "HBoxModel",
          "state": {
            "_view_name": "HBoxView",
            "_dom_classes": [],
            "_model_name": "HBoxModel",
            "_view_module": "@jupyter-widgets/controls",
            "_model_module_version": "1.5.0",
            "_view_count": null,
            "_view_module_version": "1.5.0",
            "box_style": "",
            "layout": "IPY_MODEL_a01817782c164a3ea122ebda6f65aef6",
            "_model_module": "@jupyter-widgets/controls",
            "children": [
              "IPY_MODEL_35a9644c0fca41bfa6b9514cbf082e13",
              "IPY_MODEL_0d51e7443c87456a98e9f5a2316c64f0"
            ]
          }
        },
        "a01817782c164a3ea122ebda6f65aef6": {
          "model_module": "@jupyter-widgets/base",
          "model_name": "LayoutModel",
          "state": {
            "_view_name": "LayoutView",
            "grid_template_rows": null,
            "right": null,
            "justify_content": null,
            "_view_module": "@jupyter-widgets/base",
            "overflow": null,
            "_model_module_version": "1.2.0",
            "_view_count": null,
            "flex_flow": null,
            "width": null,
            "min_width": null,
            "border": null,
            "align_items": null,
            "bottom": null,
            "_model_module": "@jupyter-widgets/base",
            "top": null,
            "grid_column": null,
            "overflow_y": null,
            "overflow_x": null,
            "grid_auto_flow": null,
            "grid_area": null,
            "grid_template_columns": null,
            "flex": null,
            "_model_name": "LayoutModel",
            "justify_items": null,
            "grid_row": null,
            "max_height": null,
            "align_content": null,
            "visibility": null,
            "align_self": null,
            "height": null,
            "min_height": null,
            "padding": null,
            "grid_auto_rows": null,
            "grid_gap": null,
            "max_width": null,
            "order": null,
            "_view_module_version": "1.2.0",
            "grid_template_areas": null,
            "object_position": null,
            "object_fit": null,
            "grid_auto_columns": null,
            "margin": null,
            "display": null,
            "left": null
          }
        },
        "35a9644c0fca41bfa6b9514cbf082e13": {
          "model_module": "@jupyter-widgets/controls",
          "model_name": "FloatProgressModel",
          "state": {
            "_view_name": "ProgressView",
            "style": "IPY_MODEL_33a3aadcfc4645e8aaa1116e90b3d530",
            "_dom_classes": [],
            "description": "",
            "_model_name": "FloatProgressModel",
            "bar_style": "success",
            "max": 1,
            "_view_module": "@jupyter-widgets/controls",
            "_model_module_version": "1.5.0",
            "value": 1,
            "_view_count": null,
            "_view_module_version": "1.5.0",
            "orientation": "horizontal",
            "min": 0,
            "description_tooltip": null,
            "_model_module": "@jupyter-widgets/controls",
            "layout": "IPY_MODEL_0db089ef6e7a4d21b598702f9435b4f6"
          }
        },
        "0d51e7443c87456a98e9f5a2316c64f0": {
          "model_module": "@jupyter-widgets/controls",
          "model_name": "HTMLModel",
          "state": {
            "_view_name": "HTMLView",
            "style": "IPY_MODEL_1ae25c37a0ee40e2862dc2b8def90358",
            "_dom_classes": [],
            "description": "",
            "_model_name": "HTMLModel",
            "placeholder": "​",
            "_view_module": "@jupyter-widgets/controls",
            "_model_module_version": "1.5.0",
            "value": " 4423680/? [00:00&lt;00:00, 14326119.45it/s]",
            "_view_count": null,
            "_view_module_version": "1.5.0",
            "description_tooltip": null,
            "_model_module": "@jupyter-widgets/controls",
            "layout": "IPY_MODEL_be7fa02ff49b4aa8844f2a4b96fb704a"
          }
        },
        "33a3aadcfc4645e8aaa1116e90b3d530": {
          "model_module": "@jupyter-widgets/controls",
          "model_name": "ProgressStyleModel",
          "state": {
            "_view_name": "StyleView",
            "_model_name": "ProgressStyleModel",
            "description_width": "initial",
            "_view_module": "@jupyter-widgets/base",
            "_model_module_version": "1.5.0",
            "_view_count": null,
            "_view_module_version": "1.2.0",
            "bar_color": null,
            "_model_module": "@jupyter-widgets/controls"
          }
        },
        "0db089ef6e7a4d21b598702f9435b4f6": {
          "model_module": "@jupyter-widgets/base",
          "model_name": "LayoutModel",
          "state": {
            "_view_name": "LayoutView",
            "grid_template_rows": null,
            "right": null,
            "justify_content": null,
            "_view_module": "@jupyter-widgets/base",
            "overflow": null,
            "_model_module_version": "1.2.0",
            "_view_count": null,
            "flex_flow": null,
            "width": null,
            "min_width": null,
            "border": null,
            "align_items": null,
            "bottom": null,
            "_model_module": "@jupyter-widgets/base",
            "top": null,
            "grid_column": null,
            "overflow_y": null,
            "overflow_x": null,
            "grid_auto_flow": null,
            "grid_area": null,
            "grid_template_columns": null,
            "flex": null,
            "_model_name": "LayoutModel",
            "justify_items": null,
            "grid_row": null,
            "max_height": null,
            "align_content": null,
            "visibility": null,
            "align_self": null,
            "height": null,
            "min_height": null,
            "padding": null,
            "grid_auto_rows": null,
            "grid_gap": null,
            "max_width": null,
            "order": null,
            "_view_module_version": "1.2.0",
            "grid_template_areas": null,
            "object_position": null,
            "object_fit": null,
            "grid_auto_columns": null,
            "margin": null,
            "display": null,
            "left": null
          }
        },
        "1ae25c37a0ee40e2862dc2b8def90358": {
          "model_module": "@jupyter-widgets/controls",
          "model_name": "DescriptionStyleModel",
          "state": {
            "_view_name": "StyleView",
            "_model_name": "DescriptionStyleModel",
            "description_width": "",
            "_view_module": "@jupyter-widgets/base",
            "_model_module_version": "1.5.0",
            "_view_count": null,
            "_view_module_version": "1.2.0",
            "_model_module": "@jupyter-widgets/controls"
          }
        },
        "be7fa02ff49b4aa8844f2a4b96fb704a": {
          "model_module": "@jupyter-widgets/base",
          "model_name": "LayoutModel",
          "state": {
            "_view_name": "LayoutView",
            "grid_template_rows": null,
            "right": null,
            "justify_content": null,
            "_view_module": "@jupyter-widgets/base",
            "overflow": null,
            "_model_module_version": "1.2.0",
            "_view_count": null,
            "flex_flow": null,
            "width": null,
            "min_width": null,
            "border": null,
            "align_items": null,
            "bottom": null,
            "_model_module": "@jupyter-widgets/base",
            "top": null,
            "grid_column": null,
            "overflow_y": null,
            "overflow_x": null,
            "grid_auto_flow": null,
            "grid_area": null,
            "grid_template_columns": null,
            "flex": null,
            "_model_name": "LayoutModel",
            "justify_items": null,
            "grid_row": null,
            "max_height": null,
            "align_content": null,
            "visibility": null,
            "align_self": null,
            "height": null,
            "min_height": null,
            "padding": null,
            "grid_auto_rows": null,
            "grid_gap": null,
            "max_width": null,
            "order": null,
            "_view_module_version": "1.2.0",
            "grid_template_areas": null,
            "object_position": null,
            "object_fit": null,
            "grid_auto_columns": null,
            "margin": null,
            "display": null,
            "left": null
          }
        },
        "ab8b421e558949d4b4e9d154eb77a44d": {
          "model_module": "@jupyter-widgets/controls",
          "model_name": "HBoxModel",
          "state": {
            "_view_name": "HBoxView",
            "_dom_classes": [],
            "_model_name": "HBoxModel",
            "_view_module": "@jupyter-widgets/controls",
            "_model_module_version": "1.5.0",
            "_view_count": null,
            "_view_module_version": "1.5.0",
            "box_style": "",
            "layout": "IPY_MODEL_eed0e656c3614c778eda35ccb6f5ef95",
            "_model_module": "@jupyter-widgets/controls",
            "children": [
              "IPY_MODEL_9bf50e71c4874bfe82363912318e1832",
              "IPY_MODEL_17e3db9a65e54a50a3f74abeadfd3c4a"
            ]
          }
        },
        "eed0e656c3614c778eda35ccb6f5ef95": {
          "model_module": "@jupyter-widgets/base",
          "model_name": "LayoutModel",
          "state": {
            "_view_name": "LayoutView",
            "grid_template_rows": null,
            "right": null,
            "justify_content": null,
            "_view_module": "@jupyter-widgets/base",
            "overflow": null,
            "_model_module_version": "1.2.0",
            "_view_count": null,
            "flex_flow": null,
            "width": null,
            "min_width": null,
            "border": null,
            "align_items": null,
            "bottom": null,
            "_model_module": "@jupyter-widgets/base",
            "top": null,
            "grid_column": null,
            "overflow_y": null,
            "overflow_x": null,
            "grid_auto_flow": null,
            "grid_area": null,
            "grid_template_columns": null,
            "flex": null,
            "_model_name": "LayoutModel",
            "justify_items": null,
            "grid_row": null,
            "max_height": null,
            "align_content": null,
            "visibility": null,
            "align_self": null,
            "height": null,
            "min_height": null,
            "padding": null,
            "grid_auto_rows": null,
            "grid_gap": null,
            "max_width": null,
            "order": null,
            "_view_module_version": "1.2.0",
            "grid_template_areas": null,
            "object_position": null,
            "object_fit": null,
            "grid_auto_columns": null,
            "margin": null,
            "display": null,
            "left": null
          }
        },
        "9bf50e71c4874bfe82363912318e1832": {
          "model_module": "@jupyter-widgets/controls",
          "model_name": "FloatProgressModel",
          "state": {
            "_view_name": "ProgressView",
            "style": "IPY_MODEL_4e7105c735d543a49de1b225a14a2fa8",
            "_dom_classes": [],
            "description": "",
            "_model_name": "FloatProgressModel",
            "bar_style": "success",
            "max": 1,
            "_view_module": "@jupyter-widgets/controls",
            "_model_module_version": "1.5.0",
            "value": 1,
            "_view_count": null,
            "_view_module_version": "1.5.0",
            "orientation": "horizontal",
            "min": 0,
            "description_tooltip": null,
            "_model_module": "@jupyter-widgets/controls",
            "layout": "IPY_MODEL_c559d0880c0c4b72a05fe10962215536"
          }
        },
        "17e3db9a65e54a50a3f74abeadfd3c4a": {
          "model_module": "@jupyter-widgets/controls",
          "model_name": "HTMLModel",
          "state": {
            "_view_name": "HTMLView",
            "style": "IPY_MODEL_da66c4ff2d2e404d894821b11b9ae6d0",
            "_dom_classes": [],
            "description": "",
            "_model_name": "HTMLModel",
            "placeholder": "​",
            "_view_module": "@jupyter-widgets/controls",
            "_model_module_version": "1.5.0",
            "value": " 8192/? [00:00&lt;00:00, 84093.03it/s]",
            "_view_count": null,
            "_view_module_version": "1.5.0",
            "description_tooltip": null,
            "_model_module": "@jupyter-widgets/controls",
            "layout": "IPY_MODEL_a9333a471c4d43d08b7da6d505c28a71"
          }
        },
        "4e7105c735d543a49de1b225a14a2fa8": {
          "model_module": "@jupyter-widgets/controls",
          "model_name": "ProgressStyleModel",
          "state": {
            "_view_name": "StyleView",
            "_model_name": "ProgressStyleModel",
            "description_width": "initial",
            "_view_module": "@jupyter-widgets/base",
            "_model_module_version": "1.5.0",
            "_view_count": null,
            "_view_module_version": "1.2.0",
            "bar_color": null,
            "_model_module": "@jupyter-widgets/controls"
          }
        },
        "c559d0880c0c4b72a05fe10962215536": {
          "model_module": "@jupyter-widgets/base",
          "model_name": "LayoutModel",
          "state": {
            "_view_name": "LayoutView",
            "grid_template_rows": null,
            "right": null,
            "justify_content": null,
            "_view_module": "@jupyter-widgets/base",
            "overflow": null,
            "_model_module_version": "1.2.0",
            "_view_count": null,
            "flex_flow": null,
            "width": null,
            "min_width": null,
            "border": null,
            "align_items": null,
            "bottom": null,
            "_model_module": "@jupyter-widgets/base",
            "top": null,
            "grid_column": null,
            "overflow_y": null,
            "overflow_x": null,
            "grid_auto_flow": null,
            "grid_area": null,
            "grid_template_columns": null,
            "flex": null,
            "_model_name": "LayoutModel",
            "justify_items": null,
            "grid_row": null,
            "max_height": null,
            "align_content": null,
            "visibility": null,
            "align_self": null,
            "height": null,
            "min_height": null,
            "padding": null,
            "grid_auto_rows": null,
            "grid_gap": null,
            "max_width": null,
            "order": null,
            "_view_module_version": "1.2.0",
            "grid_template_areas": null,
            "object_position": null,
            "object_fit": null,
            "grid_auto_columns": null,
            "margin": null,
            "display": null,
            "left": null
          }
        },
        "da66c4ff2d2e404d894821b11b9ae6d0": {
          "model_module": "@jupyter-widgets/controls",
          "model_name": "DescriptionStyleModel",
          "state": {
            "_view_name": "StyleView",
            "_model_name": "DescriptionStyleModel",
            "description_width": "",
            "_view_module": "@jupyter-widgets/base",
            "_model_module_version": "1.5.0",
            "_view_count": null,
            "_view_module_version": "1.2.0",
            "_model_module": "@jupyter-widgets/controls"
          }
        },
        "a9333a471c4d43d08b7da6d505c28a71": {
          "model_module": "@jupyter-widgets/base",
          "model_name": "LayoutModel",
          "state": {
            "_view_name": "LayoutView",
            "grid_template_rows": null,
            "right": null,
            "justify_content": null,
            "_view_module": "@jupyter-widgets/base",
            "overflow": null,
            "_model_module_version": "1.2.0",
            "_view_count": null,
            "flex_flow": null,
            "width": null,
            "min_width": null,
            "border": null,
            "align_items": null,
            "bottom": null,
            "_model_module": "@jupyter-widgets/base",
            "top": null,
            "grid_column": null,
            "overflow_y": null,
            "overflow_x": null,
            "grid_auto_flow": null,
            "grid_area": null,
            "grid_template_columns": null,
            "flex": null,
            "_model_name": "LayoutModel",
            "justify_items": null,
            "grid_row": null,
            "max_height": null,
            "align_content": null,
            "visibility": null,
            "align_self": null,
            "height": null,
            "min_height": null,
            "padding": null,
            "grid_auto_rows": null,
            "grid_gap": null,
            "max_width": null,
            "order": null,
            "_view_module_version": "1.2.0",
            "grid_template_areas": null,
            "object_position": null,
            "object_fit": null,
            "grid_auto_columns": null,
            "margin": null,
            "display": null,
            "left": null
          }
        }
      }
    }
  },
  "cells": [
    {
      "cell_type": "markdown",
      "metadata": {
        "id": "view-in-github",
        "colab_type": "text"
      },
      "source": [
        "<a href=\"https://colab.research.google.com/github/JungWoo-Chae/GANs-in-action/blob/master/LSGAN_FMNIST.ipynb\" target=\"_parent\"><img src=\"https://colab.research.google.com/assets/colab-badge.svg\" alt=\"Open In Colab\"/></a>"
      ]
    },
    {
      "cell_type": "markdown",
      "metadata": {
        "id": "1fEvAcwbfJvR"
      },
      "source": [
        "# **LSGAN with Fashion MNIST**\n"
      ]
    },
    {
      "cell_type": "markdown",
      "metadata": {
        "id": "181Mi0DSwREM"
      },
      "source": [
        "## **Imports**"
      ]
    },
    {
      "cell_type": "code",
      "metadata": {
        "id": "Nx2pe892jknQ"
      },
      "source": [
        "import numpy as np\n",
        "import matplotlib.pyplot as plt\n",
        "\n",
        "import torch\n",
        "import torch.nn as nn\n",
        "import torch.nn.functional as F\n",
        "import torchvision\n",
        "from torch.autograd import Variable\n",
        "from torch import autograd"
      ],
      "execution_count": 1,
      "outputs": []
    },
    {
      "cell_type": "code",
      "metadata": {
        "id": "pX4Yv853s9Sx"
      },
      "source": [
        "device = torch.device('cuda:0' if torch.cuda.is_available() else 'cpu')"
      ],
      "execution_count": 2,
      "outputs": []
    },
    {
      "cell_type": "markdown",
      "metadata": {
        "id": "ErZZIQ_zUjXv"
      },
      "source": [
        "## **Model**"
      ]
    },
    {
      "cell_type": "code",
      "metadata": {
        "id": "WJmq2i6Iq2PS"
      },
      "source": [
        "class Generator(torch.nn.Module):\n",
        "    def __init__(self, z_dim, channels, nf):\n",
        "        super().__init__()\n",
        "        self.main_module = nn.Sequential(\n",
        "            nn.ConvTranspose2d(in_channels=100, out_channels=nf*4, kernel_size=4, stride=1, padding=0),\n",
        "            nn.BatchNorm2d(num_features=nf*4),\n",
        "            nn.ReLU(True),\n",
        "\n",
        "            nn.ConvTranspose2d(in_channels=nf*4, out_channels=nf*2, kernel_size=4, stride=1, padding=0),\n",
        "            nn.BatchNorm2d(num_features=nf*2),\n",
        "            nn.ReLU(True),\n",
        "\n",
        "            nn.ConvTranspose2d(in_channels=nf*2, out_channels=nf, kernel_size=4, stride=2, padding=1),\n",
        "            nn.BatchNorm2d(num_features=nf),\n",
        "            nn.ReLU(True),\n",
        "\n",
        "            nn.ConvTranspose2d(in_channels=nf , out_channels=channels, kernel_size=4, stride=2, padding=1))\n",
        "\n",
        "        self.output = nn.Tanh()\n",
        "\n",
        "    def forward(self, x):\n",
        "        x = self.main_module(x)\n",
        "        return self.output(x)"
      ],
      "execution_count": 3,
      "outputs": []
    },
    {
      "cell_type": "code",
      "metadata": {
        "id": "Ng9MOjRgAt5-"
      },
      "source": [
        "class Discriminator(torch.nn.Module):\n",
        "    def __init__(self, channels, nf):\n",
        "        super().__init__()\n",
        "\n",
        "        self.main_module = nn.Sequential(\n",
        "            nn.Conv2d(in_channels=channels, out_channels=nf, kernel_size=4, stride=2, padding=1),\n",
        "            nn.InstanceNorm2d(nf, affine=True),\n",
        "            nn.LeakyReLU(0.2, inplace=True),\n",
        "\n",
        "            nn.Conv2d(in_channels=nf, out_channels=nf*2, kernel_size=4, stride=2, padding=1),\n",
        "            nn.InstanceNorm2d(nf*2, affine=True),\n",
        "            nn.LeakyReLU(0.2, inplace=True),\n",
        "\n",
        "            nn.Conv2d(in_channels=nf*2, out_channels=nf*4, kernel_size=4, stride=2, padding=1),\n",
        "            nn.InstanceNorm2d(nf*4, affine=True),\n",
        "            nn.LeakyReLU(0.2, inplace=True))\n",
        "\n",
        "        self.output = nn.Sequential(\n",
        "            nn.Conv2d(in_channels=nf*4, out_channels=1, kernel_size=3, stride=1, padding=0)\n",
        "            )\n",
        "        \n",
        "    def forward(self, x):\n",
        "        x = self.main_module(x)\n",
        "        return self.output(x)"
      ],
      "execution_count": 4,
      "outputs": []
    },
    {
      "cell_type": "code",
      "metadata": {
        "id": "0Fw8FrBfR6Vr"
      },
      "source": [
        "z_dim = 100\n",
        "channels = 1\n",
        "nf = 64"
      ],
      "execution_count": 5,
      "outputs": []
    },
    {
      "cell_type": "code",
      "metadata": {
        "id": "rPscO_2k2eEj"
      },
      "source": [
        "D = Discriminator(channels, nf)\n",
        "D = D.to(device)\n",
        "G = Generator(z_dim, channels, nf)\n",
        "G = G.to(device)"
      ],
      "execution_count": 6,
      "outputs": []
    },
    {
      "cell_type": "markdown",
      "metadata": {
        "id": "DoDDxfLcxC7z"
      },
      "source": [
        "## **Dataset**"
      ]
    },
    {
      "cell_type": "code",
      "metadata": {
        "id": "8ZuJmBW_JuFD"
      },
      "source": [
        "transform = torchvision.transforms.Compose([\n",
        "    torchvision.transforms.ToTensor(),\n",
        "    torchvision.transforms.Normalize((0.5), (0.5)),\n",
        "    ])"
      ],
      "execution_count": 7,
      "outputs": []
    },
    {
      "cell_type": "code",
      "metadata": {
        "id": "dSK9-8o_v1S-",
        "outputId": "5837d89f-3ad3-4220-a9b5-1a6d2da991ce",
        "colab": {
          "base_uri": "https://localhost:8080/",
          "height": 435,
          "referenced_widgets": [
            "9aa8afd9c50d462290426bbfb2890c16",
            "1f3ee0753ba941b19495f88c9525bc48",
            "5c276415bc784b0aa74f34f86e0f48d8",
            "20c5bc0502114e0fbee32bd3ef0c1cd8",
            "af7a969c8e384aa6bd42b45b38527c8d",
            "a2d1370c6ea8437596cdb1f6994a5eff",
            "aa5ebd26bcaa44a19b769760eb3e303b",
            "08c7525c2dc043a985bb499d1245deed",
            "500f197fa5204f3c88ed02f7300d02c8",
            "55002d96f35142e3a56438b432ad78c0",
            "56ac2f3d5b4146099b6f80c9ea1495ba",
            "96bdfd6ff3b140dbbb4d9425d1f89840",
            "6156da5a572f4cc48c6dc99a12215ce9",
            "c2db52bf93594fe582b961629a7aaf2a",
            "2b4269fdbb804bf8a9bb0f0b054bed56",
            "69227affea204cdfac8c77d7f7d8f99e",
            "9f2790311c1844e7bc915856dc6a0d9c",
            "a01817782c164a3ea122ebda6f65aef6",
            "35a9644c0fca41bfa6b9514cbf082e13",
            "0d51e7443c87456a98e9f5a2316c64f0",
            "33a3aadcfc4645e8aaa1116e90b3d530",
            "0db089ef6e7a4d21b598702f9435b4f6",
            "1ae25c37a0ee40e2862dc2b8def90358",
            "be7fa02ff49b4aa8844f2a4b96fb704a",
            "ab8b421e558949d4b4e9d154eb77a44d",
            "eed0e656c3614c778eda35ccb6f5ef95",
            "9bf50e71c4874bfe82363912318e1832",
            "17e3db9a65e54a50a3f74abeadfd3c4a",
            "4e7105c735d543a49de1b225a14a2fa8",
            "c559d0880c0c4b72a05fe10962215536",
            "da66c4ff2d2e404d894821b11b9ae6d0",
            "a9333a471c4d43d08b7da6d505c28a71"
          ]
        }
      },
      "source": [
        "dataset = torchvision.datasets.FashionMNIST(root='./data', train=True,\n",
        "                                        download=True, transform=transform)"
      ],
      "execution_count": 8,
      "outputs": [
        {
          "output_type": "stream",
          "text": [
            "Downloading http://fashion-mnist.s3-website.eu-central-1.amazonaws.com/train-images-idx3-ubyte.gz to ./data/FashionMNIST/raw/train-images-idx3-ubyte.gz\n"
          ],
          "name": "stdout"
        },
        {
          "output_type": "display_data",
          "data": {
            "application/vnd.jupyter.widget-view+json": {
              "model_id": "9aa8afd9c50d462290426bbfb2890c16",
              "version_minor": 0,
              "version_major": 2
            },
            "text/plain": [
              "HBox(children=(FloatProgress(value=1.0, bar_style='info', max=1.0), HTML(value='')))"
            ]
          },
          "metadata": {
            "tags": []
          }
        },
        {
          "output_type": "stream",
          "text": [
            "Extracting ./data/FashionMNIST/raw/train-images-idx3-ubyte.gz to ./data/FashionMNIST/raw\n",
            "Downloading http://fashion-mnist.s3-website.eu-central-1.amazonaws.com/train-labels-idx1-ubyte.gz to ./data/FashionMNIST/raw/train-labels-idx1-ubyte.gz\n"
          ],
          "name": "stdout"
        },
        {
          "output_type": "display_data",
          "data": {
            "application/vnd.jupyter.widget-view+json": {
              "model_id": "500f197fa5204f3c88ed02f7300d02c8",
              "version_minor": 0,
              "version_major": 2
            },
            "text/plain": [
              "HBox(children=(FloatProgress(value=1.0, bar_style='info', max=1.0), HTML(value='')))"
            ]
          },
          "metadata": {
            "tags": []
          }
        },
        {
          "output_type": "stream",
          "text": [
            "Extracting ./data/FashionMNIST/raw/train-labels-idx1-ubyte.gz to ./data/FashionMNIST/raw\n",
            "Downloading http://fashion-mnist.s3-website.eu-central-1.amazonaws.com/t10k-images-idx3-ubyte.gz to ./data/FashionMNIST/raw/t10k-images-idx3-ubyte.gz\n"
          ],
          "name": "stdout"
        },
        {
          "output_type": "display_data",
          "data": {
            "application/vnd.jupyter.widget-view+json": {
              "model_id": "9f2790311c1844e7bc915856dc6a0d9c",
              "version_minor": 0,
              "version_major": 2
            },
            "text/plain": [
              "HBox(children=(FloatProgress(value=1.0, bar_style='info', max=1.0), HTML(value='')))"
            ]
          },
          "metadata": {
            "tags": []
          }
        },
        {
          "output_type": "stream",
          "text": [
            "Extracting ./data/FashionMNIST/raw/t10k-images-idx3-ubyte.gz to ./data/FashionMNIST/raw\n",
            "Downloading http://fashion-mnist.s3-website.eu-central-1.amazonaws.com/t10k-labels-idx1-ubyte.gz to ./data/FashionMNIST/raw/t10k-labels-idx1-ubyte.gz\n"
          ],
          "name": "stdout"
        },
        {
          "output_type": "display_data",
          "data": {
            "application/vnd.jupyter.widget-view+json": {
              "model_id": "ab8b421e558949d4b4e9d154eb77a44d",
              "version_minor": 0,
              "version_major": 2
            },
            "text/plain": [
              "HBox(children=(FloatProgress(value=1.0, bar_style='info', max=1.0), HTML(value='')))"
            ]
          },
          "metadata": {
            "tags": []
          }
        },
        {
          "output_type": "stream",
          "text": [
            "Extracting ./data/FashionMNIST/raw/t10k-labels-idx1-ubyte.gz to ./data/FashionMNIST/raw\n",
            "Processing...\n",
            "\n",
            "\n",
            "\n",
            "Done!\n"
          ],
          "name": "stdout"
        },
        {
          "output_type": "stream",
          "text": [
            "/usr/local/lib/python3.6/dist-packages/torchvision/datasets/mnist.py:469: UserWarning: The given NumPy array is not writeable, and PyTorch does not support non-writeable tensors. This means you can write to the underlying (supposedly non-writeable) NumPy array using the tensor. You may want to copy the array to protect its data or make it writeable before converting it to a tensor. This type of warning will be suppressed for the rest of this program. (Triggered internally at  /pytorch/torch/csrc/utils/tensor_numpy.cpp:141.)\n",
            "  return torch.from_numpy(parsed.astype(m[2], copy=False)).view(*s)\n"
          ],
          "name": "stderr"
        }
      ]
    },
    {
      "cell_type": "markdown",
      "metadata": {
        "id": "efo2XO6vziLs"
      },
      "source": [
        "##  **Train & Inspect Outputs**"
      ]
    },
    {
      "cell_type": "code",
      "metadata": {
        "id": "SlDUNudeausp"
      },
      "source": [
        "losses = []\n",
        "checkpoints = []"
      ],
      "execution_count": 9,
      "outputs": []
    },
    {
      "cell_type": "markdown",
      "metadata": {
        "id": "f2Gs0ilzDLB8"
      },
      "source": [
        "### Set Least Square Loss"
      ]
    },
    {
      "cell_type": "markdown",
      "metadata": {
        "id": "HC_1WOyNC_aj"
      },
      "source": [
        "![lsgan_1.jpg](data:image/jpeg;base64,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)"
      ]
    },
    {
      "cell_type": "code",
      "metadata": {
        "id": "rrXOeBzXn19R"
      },
      "source": [
        "def train(epochs, batch_size, sample_interval, a=-1, b=1, c=0):  \n",
        "    a=a\n",
        "    b=b\n",
        "    c=c\n",
        "\n",
        "    D.train()\n",
        "    G.train()\n",
        "\n",
        "    train_loader = torch.utils.data.DataLoader(dataset, batch_size=batch_size,\n",
        "                                           shuffle=True, num_workers=4, pin_memory=True)\n",
        "\n",
        "    real = torch.ones( batch_size, 1, device=device, dtype=torch.float)\n",
        "    fake = torch.zeros( batch_size, 1, device=device, dtype=torch.float)\n",
        "\n",
        "    criterion = nn.BCELoss()\n",
        "    d_optimizer = torch.optim.Adam(D.parameters(), lr=0.0002, betas=(0.5, 0.999))\n",
        "    g_optimizer = torch.optim.Adam(G.parameters(), lr=0.0002, betas=(0.5, 0.999))\n",
        "\n",
        "    for epoch in range(epochs):\n",
        "        for imgs, _ in train_loader:    \n",
        "            imgs = imgs.to(device)\n",
        "\n",
        "            if len(imgs) != batch_size:\n",
        "                break\n",
        "            \n",
        "            z = torch.randn(batch_size, z_dim, 1,1, device=device)\n",
        "            gen_imgs = G(z)\n",
        "\n",
        "            outputs_real = D(imgs)\n",
        "            outputs_fake = D(gen_imgs)\n",
        "\n",
        "\n",
        "            d_loss_real = torch.mean((outputs_real - b)**2)\n",
        "            d_loss_fake = torch.mean((outputs_fake - a)**2)\n",
        "\n",
        "            d_loss = 0.5 * (d_loss_real + d_loss_fake)\n",
        "\n",
        "            d_optimizer.zero_grad()\n",
        "            d_loss.backward()\n",
        "            d_optimizer.step()\n",
        "\n",
        "            g_optimizer.zero_grad()\n",
        "\n",
        "            z = torch.randn(batch_size, z_dim, 1,1, device=device)\n",
        "            gen_imgs = G(z)\n",
        "            g_loss = 0.5 * torch.mean((D(gen_imgs) - c)**2)\n",
        "\n",
        "            g_loss.backward()\n",
        "            g_optimizer.step()\n",
        "        \n",
        "        print(\"%d/%d [D loss: %f] [G loss: %f]\" % (epoch + 1, epochs, d_loss.item(), g_loss.item()))\n",
        "        if (epoch+1) % sample_interval == 0:\n",
        "            losses.append((d_loss.cpu().detach().numpy(), g_loss.cpu().detach().numpy()))\n",
        "            checkpoints.append(epoch + 1)\n",
        "            \n",
        "            sample_images(G)\n",
        "            \n"
      ],
      "execution_count": 10,
      "outputs": []
    },
    {
      "cell_type": "code",
      "metadata": {
        "id": "k8lTQYfI2sZO"
      },
      "source": [
        "def sample_images(generator, t=3, image_grid_rows=2, image_grid_columns=5):\n",
        "\n",
        "    z = torch.randn(image_grid_rows * image_grid_columns, z_dim, 1, 1, device=device)\n",
        "\n",
        "    labels = np.arange(0, 10)\n",
        "    labels = torch.tensor(labels).to(device)\n",
        "\n",
        "    gen_imgs = generator(z).cpu().detach()\n",
        "\n",
        "    gen_imgs = 0.5 * gen_imgs + 0.5\n",
        "\n",
        "    fig, axs = plt.subplots(image_grid_rows,\n",
        "                            image_grid_columns,\n",
        "                            figsize=(10, 4),\n",
        "                            sharey=True,\n",
        "                            sharex=True)\n",
        "\n",
        "    cnt = 0\n",
        "    for i in range(image_grid_rows):\n",
        "        for j in range(image_grid_columns):\n",
        "            axs[i,j].imshow(gen_imgs[cnt].view(28,28), cmap='gray')\n",
        "            axs[i, j].axis('off')\n",
        "            cnt += 1"
      ],
      "execution_count": 11,
      "outputs": []
    },
    {
      "cell_type": "code",
      "metadata": {
        "id": "9whoTeMn6Ol_",
        "outputId": "5a647e73-316c-4aa9-e675-d73e0f1a0adf",
        "colab": {
          "base_uri": "https://localhost:8080/",
          "height": 1000
        }
      },
      "source": [
        "epochs = 40\n",
        "batch_size = 1024\n",
        "sample_interval = 5\n",
        "a = -1\n",
        "b = 1\n",
        "c = 0\n",
        "\n",
        "train(epochs, batch_size, sample_interval,a,b,c)"
      ],
      "execution_count": 12,
      "outputs": [
        {
          "output_type": "stream",
          "text": [
            "\n",
            "\n",
            "\n",
            "\n",
            "1/40 [D loss: 0.553830] [G loss: 2.322017]\n",
            "2/40 [D loss: 1.358999] [G loss: 2.378981]\n",
            "3/40 [D loss: 0.096273] [G loss: 0.871877]\n",
            "4/40 [D loss: 0.192055] [G loss: 0.562831]\n",
            "5/40 [D loss: 0.231197] [G loss: 0.537060]\n",
            "6/40 [D loss: 0.182594] [G loss: 0.422140]\n",
            "7/40 [D loss: 0.198509] [G loss: 0.375812]\n",
            "8/40 [D loss: 0.262152] [G loss: 0.490548]\n",
            "9/40 [D loss: 0.420878] [G loss: 0.869499]\n",
            "10/40 [D loss: 0.394090] [G loss: 0.118369]\n",
            "11/40 [D loss: 0.643054] [G loss: 0.160862]\n",
            "12/40 [D loss: 0.410769] [G loss: 0.227537]\n",
            "13/40 [D loss: 0.405597] [G loss: 0.376312]\n",
            "14/40 [D loss: 0.492651] [G loss: 0.229584]\n",
            "15/40 [D loss: 0.494925] [G loss: 0.129903]\n",
            "16/40 [D loss: 0.375154] [G loss: 0.383939]\n",
            "17/40 [D loss: 0.406210] [G loss: 0.405452]\n",
            "18/40 [D loss: 0.410540] [G loss: 0.165034]\n",
            "19/40 [D loss: 0.439881] [G loss: 0.429530]\n",
            "20/40 [D loss: 0.385101] [G loss: 0.302816]\n",
            "21/40 [D loss: 0.520898] [G loss: 0.189948]\n",
            "22/40 [D loss: 0.428192] [G loss: 0.299559]\n",
            "23/40 [D loss: 0.730581] [G loss: 0.058083]\n",
            "24/40 [D loss: 0.459713] [G loss: 0.357034]\n",
            "25/40 [D loss: 0.428772] [G loss: 0.261757]\n",
            "26/40 [D loss: 0.456341] [G loss: 0.313274]\n",
            "27/40 [D loss: 0.437690] [G loss: 0.353335]\n",
            "28/40 [D loss: 0.425468] [G loss: 0.217047]\n",
            "29/40 [D loss: 0.515844] [G loss: 0.116092]\n",
            "30/40 [D loss: 0.438615] [G loss: 0.277501]\n",
            "31/40 [D loss: 0.429831] [G loss: 0.254615]\n",
            "32/40 [D loss: 0.507166] [G loss: 0.104486]\n",
            "33/40 [D loss: 0.525890] [G loss: 0.099227]\n",
            "34/40 [D loss: 0.469028] [G loss: 0.348107]\n",
            "35/40 [D loss: 0.669769] [G loss: 0.061760]\n",
            "36/40 [D loss: 0.454960] [G loss: 0.246016]\n",
            "37/40 [D loss: 0.528805] [G loss: 0.570513]\n",
            "38/40 [D loss: 0.419280] [G loss: 0.291130]\n",
            "39/40 [D loss: 0.494360] [G loss: 0.173667]\n",
            "40/40 [D loss: 0.439882] [G loss: 0.138265]\n"
          ],
          "name": "stdout"
        },
        {
          "output_type": "display_data",
          "data": {
            "image/png": "[encoded data removed]",
            "text/plain": [
              "<Figure size 720x288 with 10 Axes>"
            ]
          },
          "metadata": {
            "tags": [],
            "needs_background": "light"
          }
        },
        {
          "output_type": "display_data",
          "data": {
            "image/png": "[encoded data removed]",
            "text/plain": [
              "<Figure size 720x288 with 10 Axes>"
            ]
          },
          "metadata": {
            "tags": [],
            "needs_background": "light"
          }
        },
        {
          "output_type": "display_data",
          "data": {
            "image/png": "[encoded data removed]",
            "text/plain": [
              "<Figure size 720x288 with 10 Axes>"
            ]
          },
          "metadata": {
            "tags": [],
            "needs_background": "light"
          }
        },
        {
          "output_type": "display_data",
          "data": {
            "image/png": "[encoded data removed]",
            "text/plain": [
              "<Figure size 720x288 with 10 Axes>"
            ]
          },
          "metadata": {
            "tags": [],
            "needs_background": "light"
          }
        },
        {
          "output_type": "display_data",
          "data": {
            "image/png": "[encoded data removed]",
            "text/plain": [
              "<Figure size 720x288 with 10 Axes>"
            ]
          },
          "metadata": {
            "tags": [],
            "needs_background": "light"
          }
        },
        {
          "output_type": "display_data",
          "data": {
            "image/png": "[encoded data removed]",
            "text/plain": [
              "<Figure size 720x288 with 10 Axes>"
            ]
          },
          "metadata": {
            "tags": [],
            "needs_background": "light"
          }
        },
        {
          "output_type": "display_data",
          "data": {
            "image/png": "[encoded data removed]",
            "text/plain": [
              "<Figure size 720x288 with 10 Axes>"
            ]
          },
          "metadata": {
            "tags": [],
            "needs_background": "light"
          }
        },
        {
          "output_type": "display_data",
          "data": {
            "image/png": "[encoded data removed]",
            "text/plain": [
              "<Figure size 720x288 with 10 Axes>"
            ]
          },
          "metadata": {
            "tags": [],
            "needs_background": "light"
          }
        }
      ]
    },
    {
      "cell_type": "code",
      "metadata": {
        "id": "mcQYpxZLcAmg",
        "outputId": "cf88e71d-34ae-494e-a92b-dd74f30dcd75",
        "colab": {
          "base_uri": "https://localhost:8080/",
          "height": 368
        }
      },
      "source": [
        "losses_ = np.array(losses)\n",
        "\n",
        "plt.figure(figsize=(15, 5))\n",
        "plt.plot(checkpoints, losses_.T[0], label=\"Discriminator loss\")\n",
        "plt.plot(checkpoints, losses_.T[1], label=\"Generator loss\")\n",
        "\n",
        "plt.title(\"Training Loss\")\n",
        "plt.xlabel(\"epoch\")\n",
        "plt.ylabel(\"Loss\")\n",
        "plt.legend()"
      ],
      "execution_count": 13,
      "outputs": [
        {
          "output_type": "execute_result",
          "data": {
            "text/plain": [
              "<matplotlib.legend.Legend at 0x7f9096c065c0>"
            ]
          },
          "metadata": {
            "tags": []
          },
          "execution_count": 13
        },
        {
          "output_type": "display_data",
          "data": {
            "image/png": "[encoded data removed]",
            "text/plain": [
              "<Figure size 1080x360 with 1 Axes>"
            ]
          },
          "metadata": {
            "tags": [],
            "needs_background": "light"
          }
        }
      ]
    }
  ]
}